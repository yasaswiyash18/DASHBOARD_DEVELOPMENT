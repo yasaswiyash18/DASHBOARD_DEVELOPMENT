{
  "nbformat": 4,
  "nbformat_minor": 0,
  "metadata": {
    "colab": {
      "provenance": [],
      "include_colab_link": true
    },
    "kernelspec": {
      "name": "python3",
      "display_name": "Python 3"
    },
    "language_info": {
      "name": "python"
    }
  },
  "cells": [
    {
      "cell_type": "markdown",
      "metadata": {
        "id": "view-in-github",
        "colab_type": "text"
      },
      "source": [
        "<a href=\"https://colab.research.google.com/github/yasaswiyash18/DASHBOARD_DEVELOPMENT/blob/main/CodTech_Task_3.ipynb\" target=\"_parent\"><img src=\"https://colab.research.google.com/assets/colab-badge.svg\" alt=\"Open In Colab\"/></a>"
      ]
    },
    {
      "cell_type": "code",
      "execution_count": null,
      "metadata": {
        "colab": {
          "base_uri": "https://localhost:8080/"
        },
        "id": "1EtxyMLAY31-",
        "outputId": "4afd851b-049d-4729-a448-cd5e4203bf51"
      },
      "outputs": [
        {
          "output_type": "stream",
          "name": "stdout",
          "text": [
            "Requirement already satisfied: dash in /usr/local/lib/python3.11/dist-packages (2.18.2)\n",
            "Requirement already satisfied: Flask<3.1,>=1.0.4 in /usr/local/lib/python3.11/dist-packages (from dash) (3.0.3)\n",
            "Requirement already satisfied: Werkzeug<3.1 in /usr/local/lib/python3.11/dist-packages (from dash) (3.0.6)\n",
            "Requirement already satisfied: plotly>=5.0.0 in /usr/local/lib/python3.11/dist-packages (from dash) (5.24.1)\n",
            "Requirement already satisfied: dash-html-components==2.0.0 in /usr/local/lib/python3.11/dist-packages (from dash) (2.0.0)\n",
            "Requirement already satisfied: dash-core-components==2.0.0 in /usr/local/lib/python3.11/dist-packages (from dash) (2.0.0)\n",
            "Requirement already satisfied: dash-table==5.0.0 in /usr/local/lib/python3.11/dist-packages (from dash) (5.0.0)\n",
            "Requirement already satisfied: importlib-metadata in /usr/local/lib/python3.11/dist-packages (from dash) (8.6.1)\n",
            "Requirement already satisfied: typing-extensions>=4.1.1 in /usr/local/lib/python3.11/dist-packages (from dash) (4.12.2)\n",
            "Requirement already satisfied: requests in /usr/local/lib/python3.11/dist-packages (from dash) (2.32.3)\n",
            "Requirement already satisfied: retrying in /usr/local/lib/python3.11/dist-packages (from dash) (1.3.4)\n",
            "Requirement already satisfied: nest-asyncio in /usr/local/lib/python3.11/dist-packages (from dash) (1.6.0)\n",
            "Requirement already satisfied: setuptools in /usr/local/lib/python3.11/dist-packages (from dash) (75.1.0)\n",
            "Requirement already satisfied: Jinja2>=3.1.2 in /usr/local/lib/python3.11/dist-packages (from Flask<3.1,>=1.0.4->dash) (3.1.5)\n",
            "Requirement already satisfied: itsdangerous>=2.1.2 in /usr/local/lib/python3.11/dist-packages (from Flask<3.1,>=1.0.4->dash) (2.2.0)\n",
            "Requirement already satisfied: click>=8.1.3 in /usr/local/lib/python3.11/dist-packages (from Flask<3.1,>=1.0.4->dash) (8.1.8)\n",
            "Requirement already satisfied: blinker>=1.6.2 in /usr/local/lib/python3.11/dist-packages (from Flask<3.1,>=1.0.4->dash) (1.9.0)\n",
            "Requirement already satisfied: tenacity>=6.2.0 in /usr/local/lib/python3.11/dist-packages (from plotly>=5.0.0->dash) (9.0.0)\n",
            "Requirement already satisfied: packaging in /usr/local/lib/python3.11/dist-packages (from plotly>=5.0.0->dash) (24.2)\n",
            "Requirement already satisfied: MarkupSafe>=2.1.1 in /usr/local/lib/python3.11/dist-packages (from Werkzeug<3.1->dash) (3.0.2)\n",
            "Requirement already satisfied: zipp>=3.20 in /usr/local/lib/python3.11/dist-packages (from importlib-metadata->dash) (3.21.0)\n",
            "Requirement already satisfied: charset-normalizer<4,>=2 in /usr/local/lib/python3.11/dist-packages (from requests->dash) (3.4.1)\n",
            "Requirement already satisfied: idna<4,>=2.5 in /usr/local/lib/python3.11/dist-packages (from requests->dash) (3.10)\n",
            "Requirement already satisfied: urllib3<3,>=1.21.1 in /usr/local/lib/python3.11/dist-packages (from requests->dash) (2.3.0)\n",
            "Requirement already satisfied: certifi>=2017.4.17 in /usr/local/lib/python3.11/dist-packages (from requests->dash) (2025.1.31)\n",
            "Requirement already satisfied: six>=1.7.0 in /usr/local/lib/python3.11/dist-packages (from retrying->dash) (1.17.0)\n"
          ]
        }
      ],
      "source": [
        "!pip install dash\n",
        "import pandas as pd\n",
        "import dash\n",
        "from dash import dcc, html\n",
        "import plotly.express as px\n",
        "from dash.dependencies import Input, Output\n",
        "import pandas as pd"
      ]
    },
    {
      "cell_type": "code",
      "source": [
        "# Load dataset, trying 'Orders' as the sheet name\n",
        "try:\n",
        "    df = pd.read_excel(\"Sample - Superstore.xls\", sheet_name=\"Orders\")\n",
        "except ValueError:\n",
        "    # If 'Orders' doesn't exist, print available sheet names for debugging\n",
        "    xls = pd.ExcelFile(\"Sample - Superstore.xls\")\n",
        "    print(f\"Available sheets: {xls.sheet_names}\")\n",
        "    raise  # Re-raise the error to stop execution\n",
        "\n",
        "\n",
        "# Data Preprocessing\n",
        "df['Order Date'] = pd.to_datetime(df['Order Date'])\n",
        "df['Year'] = df['Order Date'].dt.year"
      ],
      "metadata": {
        "id": "XKdpx5xeb9B2"
      },
      "execution_count": null,
      "outputs": []
    },
    {
      "cell_type": "code",
      "source": [
        "# Initialize Dash App\n",
        "app = dash.Dash(__name__)\n",
        "\n",
        "# Layout\n",
        "app.layout = html.Div([\n",
        "    html.H1(\"Superstore Sales Dashboard\", style={'textAlign': 'center'}),\n",
        "\n",
        "    # Year Selection Dropdown\n",
        "    dcc.Dropdown(\n",
        "        id='year-dropdown',\n",
        "        options=[{'label': str(year), 'value': year} for year in df['Year'].unique()],\n",
        "        value=df['Year'].max(),\n",
        "        clearable=False,\n",
        "        style={'width': '50%'}\n",
        "    ),\n",
        "\n",
        "    # Sales Trend\n",
        "    dcc.Graph(id='sales-trend'),\n",
        "\n",
        "    # Category-wise Sales\n",
        "    dcc.Graph(id='category-sales'),\n",
        "\n",
        "    # Top Customers\n",
        "    dcc.Graph(id='top-customers')\n",
        "])"
      ],
      "metadata": {
        "id": "Aq8FUeYQcCOl"
      },
      "execution_count": null,
      "outputs": []
    },
    {
      "cell_type": "code",
      "source": [
        "# Callbacks\n",
        "@app.callback(\n",
        "    [Output('sales-trend', 'figure'),\n",
        "     Output('category-sales', 'figure'),\n",
        "     Output('top-customers', 'figure')],\n",
        "    [Input('year-dropdown', 'value')]\n",
        ")\n",
        "def update_charts(selected_year):\n",
        "    filtered_df = df[df['Year'] == selected_year]\n",
        "\n",
        "    # Sales Trend\n",
        "    sales_fig = px.line(filtered_df, x='Order Date', y='Sales', title=\"Sales Over Time\", markers=True)\n",
        "\n",
        "    # Category Sales\n",
        "    category_fig = px.bar(filtered_df.groupby('Category')['Sales'].sum().reset_index(),\n",
        "                          x='Category', y='Sales', title=\"Sales by Category\", color='Category')\n",
        "\n",
        "    # Top Customers\n",
        "    top_customers = filtered_df.groupby('Customer Name')['Sales'].sum().nlargest(10).reset_index()\n",
        "    top_cust_fig = px.bar(top_customers, x='Customer Name', y='Sales', title=\"Top 10 Customers\", color='Customer Name')\n",
        "\n",
        "    return sales_fig, category_fig, top_cust_fig\n",
        "\n",
        "# Run Server\n",
        "if __name__ == '__main__':\n",
        "    app.run_server(debug=True)"
      ],
      "metadata": {
        "colab": {
          "base_uri": "https://localhost:8080/",
          "height": 672
        },
        "id": "x1ZwTedbZCCA",
        "outputId": "c4a31c57-820c-484d-8f73-0da75885e8b4"
      },
      "execution_count": null,
      "outputs": [
        {
          "output_type": "display_data",
          "data": {
            "text/plain": [
              "<IPython.core.display.Javascript object>"
            ],
            "application/javascript": [
              "(async (port, path, width, height, cache, element) => {\n",
              "    if (!google.colab.kernel.accessAllowed && !cache) {\n",
              "      return;\n",
              "    }\n",
              "    element.appendChild(document.createTextNode(''));\n",
              "    const url = await google.colab.kernel.proxyPort(port, {cache});\n",
              "    const iframe = document.createElement('iframe');\n",
              "    iframe.src = new URL(path, url).toString();\n",
              "    iframe.height = height;\n",
              "    iframe.width = width;\n",
              "    iframe.style.border = 0;\n",
              "    iframe.allow = [\n",
              "        'accelerometer',\n",
              "        'autoplay',\n",
              "        'camera',\n",
              "        'clipboard-read',\n",
              "        'clipboard-write',\n",
              "        'gyroscope',\n",
              "        'magnetometer',\n",
              "        'microphone',\n",
              "        'serial',\n",
              "        'usb',\n",
              "        'xr-spatial-tracking',\n",
              "    ].join('; ');\n",
              "    element.appendChild(iframe);\n",
              "  })(8050, \"/\", \"100%\", 650, false, window.element)"
            ]
          },
          "metadata": {}
        }
      ]
    },
    {
      "cell_type": "code",
      "source": [],
      "metadata": {
        "id": "JqzayZ5AcyGU"
      },
      "execution_count": null,
      "outputs": []
    }
  ]
}